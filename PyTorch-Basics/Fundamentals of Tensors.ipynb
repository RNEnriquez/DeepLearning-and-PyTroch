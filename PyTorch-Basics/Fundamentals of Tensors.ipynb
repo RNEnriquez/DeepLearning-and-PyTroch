{
 "cells": [
  {
   "cell_type": "markdown",
   "metadata": {},
   "source": [
    "# Fundamentals of Tensors\n",
    "This notebook covers:\n",
    "* Converting NumPy arrays to PyTorch tensors\n",
    "* Creating tensors from scratch"
   ]
  },
  {
   "cell_type": "markdown",
   "metadata": {},
   "source": [
    "### Dependencies"
   ]
  },
  {
   "cell_type": "code",
   "execution_count": 1,
   "metadata": {},
   "outputs": [],
   "source": [
    "import torch\n",
    "import numpy as np"
   ]
  },
  {
   "cell_type": "code",
   "execution_count": 2,
   "metadata": {},
   "outputs": [
    {
     "data": {
      "text/plain": [
       "'1.1.0'"
      ]
     },
     "execution_count": 2,
     "metadata": {},
     "output_type": "execute_result"
    }
   ],
   "source": [
    "# Check version of PyTorch\n",
    "torch.__version__"
   ]
  },
  {
   "cell_type": "markdown",
   "metadata": {},
   "source": [
    "## What is a Tensor?\n",
    "A tensor is a multi-dimensional matrix containing elements of a single data type.<br>\n",
    "Calculations between tensors can only happen if the tensors share the same dtype.<br>\n",
    "In some cases, tensors are used as replacements for NumPy to use the power of GPUs."
   ]
  },
  {
   "cell_type": "code",
   "execution_count": 3,
   "metadata": {},
   "outputs": [
    {
     "name": "stdout",
     "output_type": "stream",
     "text": [
      "Elements of array: [1 2 3 4 5]\n",
      "Data type of array: int32\n",
      "Object type of array: <class 'numpy.ndarray'>\n"
     ]
    }
   ],
   "source": [
    "array = np.array([1, 2, 3, 4, 5])\n",
    "\n",
    "print(f\"Elements of array: {array}\")\n",
    "print(f\"Data type of array: {array.dtype}\")\n",
    "print(f\"Object type of array: {type(array)}\")"
   ]
  },
  {
   "cell_type": "markdown",
   "metadata": {},
   "source": [
    "### From NumPy to PyTorch \n",
    "Now we will look at three different ways to convert a numpy array into a torch tensor"
   ]
  },
  {
   "cell_type": "markdown",
   "metadata": {},
   "source": [
    "#### Method One"
   ]
  },
  {
   "cell_type": "code",
   "execution_count": 10,
   "metadata": {},
   "outputs": [
    {
     "name": "stdout",
     "output_type": "stream",
     "text": [
      "Elements of tensor: tensor([1, 2, 3, 4, 5], dtype=torch.int32)\n",
      "Data type of tensor: torch.int32\n",
      "Object type of tensor: <class 'torch.Tensor'>\n"
     ]
    }
   ],
   "source": [
    "tensor1 = torch.from_numpy(array) \n",
    "\n",
    "print(f\"Elements of tensor: {tensor1}\")\n",
    "print(f\"Data type of tensor: {tensor1.dtype}\")\n",
    "print(f\"Object type of tensor: {type(tensor1)}\")"
   ]
  },
  {
   "cell_type": "markdown",
   "metadata": {},
   "source": [
    "#### Method Two"
   ]
  },
  {
   "cell_type": "code",
   "execution_count": 5,
   "metadata": {},
   "outputs": [
    {
     "name": "stdout",
     "output_type": "stream",
     "text": [
      "Elements of tensor: tensor([1, 2, 3, 4, 5], dtype=torch.int32)\n",
      "Data type of tensor: torch.int32\n",
      "Object type of tensor: <class 'torch.Tensor'>\n"
     ]
    }
   ],
   "source": [
    "tensor2 = torch.as_tensor(array)\n",
    "\n",
    "print(f\"Elements of tensor: {tensor2}\")\n",
    "print(f\"Data type of tensor: {tensor2.dtype}\")\n",
    "print(f\"Object type of tensor: {type(tensor2)}\")"
   ]
  },
  {
   "cell_type": "markdown",
   "metadata": {},
   "source": [
    "#### Method Three"
   ]
  },
  {
   "cell_type": "code",
   "execution_count": 9,
   "metadata": {},
   "outputs": [
    {
     "name": "stdout",
     "output_type": "stream",
     "text": [
      "Elements of tensor: tensor([1, 2, 3, 4, 5], dtype=torch.int32)\n",
      "Data type of tensor: torch.int32\n",
      "Object type of tensor: <class 'torch.Tensor'>\n"
     ]
    }
   ],
   "source": [
    "tensor3 = torch.tensor(array)\n",
    "\n",
    "print(f\"Elements of tensor: {tensor3}\")\n",
    "print(f\"Data type of tensor: {tensor3.dtype}\")\n",
    "print(f\"Object type of tensor: {type(tensor3)}\")"
   ]
  },
  {
   "cell_type": "markdown",
   "metadata": {},
   "source": [
    "### What's the difference between these methods??\n",
    "As seen above, we have a variety of methods at our disposal:\n",
    "- torch.from_numpy()\n",
    "- torch.as_tensor()\n",
    "- torch.tensor()\n",
    "\n",
    "When using torch.from_numpy() and torch.as_tensor() the PyTorch tensor and the source NumPy array share the same memory.<br>\n",
    "This means that changes in one affect the other!<br>\n",
    "However, torch.tensor() always makes a copy.<br>\n",
    "Lets look at some examples."
   ]
  },
  {
   "cell_type": "code",
   "execution_count": 11,
   "metadata": {},
   "outputs": [
    {
     "name": "stdout",
     "output_type": "stream",
     "text": [
      "Elements of arr: [0 1 2 3 4]\n",
      "Elements of tens: tensor([0, 1, 2, 3, 4], dtype=torch.int32)\n"
     ]
    }
   ],
   "source": [
    "arr = np.arange(0,5)\n",
    "tens = torch.from_numpy(arr)\n",
    "\n",
    "print(f\"Elements of arr: {arr}\")\n",
    "print(f\"Elements of tens: {tens}\")"
   ]
  },
  {
   "cell_type": "code",
   "execution_count": 12,
   "metadata": {},
   "outputs": [
    {
     "name": "stdout",
     "output_type": "stream",
     "text": [
      "Elements of arr: [   0    1 9000    3    4]\n",
      "Elements of tens: tensor([   0,    1, 9000,    3,    4], dtype=torch.int32)\n"
     ]
    }
   ],
   "source": [
    "# Change the second element of arr\n",
    "arr[2] = 9000\n",
    "\n",
    "print(f\"Elements of arr: {arr}\")\n",
    "print(f\"Elements of tens: {tens}\")"
   ]
  },
  {
   "cell_type": "markdown",
   "metadata": {},
   "source": [
    "Like magic! The tens second element has been updated to reflect the change that was made in arr.\n",
    "Hopefully, you can see how this could cause unexpected results if you did not know this was happening.<br>\n",
    "<br>\n",
    "Now lets try using torch.tensor()"
   ]
  },
  {
   "cell_type": "code",
   "execution_count": 13,
   "metadata": {},
   "outputs": [
    {
     "name": "stdout",
     "output_type": "stream",
     "text": [
      "Elements of arr2: [0 1 2 3 4]\n",
      "Elements of tens2: tensor([0, 1, 2, 3, 4], dtype=torch.int32)\n"
     ]
    }
   ],
   "source": [
    "arr2 = np.arange(0,5)\n",
    "tens2 = torch.tensor(arr2)\n",
    "\n",
    "print(f\"Elements of arr2: {arr2}\")\n",
    "print(f\"Elements of tens2: {tens2}\")"
   ]
  },
  {
   "cell_type": "code",
   "execution_count": 14,
   "metadata": {},
   "outputs": [
    {
     "name": "stdout",
     "output_type": "stream",
     "text": [
      "Elements of arr2: [   0    1 3001    3    4]\n",
      "Elements of tens2: tensor([0, 1, 2, 3, 4], dtype=torch.int32)\n"
     ]
    }
   ],
   "source": [
    "# Change the second element of arr2\n",
    "arr2[2] = 3001\n",
    "\n",
    "print(f\"Elements of arr2: {arr2}\")\n",
    "print(f\"Elements of tens2: {tens2}\")"
   ]
  },
  {
   "cell_type": "markdown",
   "metadata": {},
   "source": [
    "No wizardy things going on here! In conclusion, unless you want to share changes, use torch.tensor()"
   ]
  },
  {
   "cell_type": "markdown",
   "metadata": {},
   "source": [
    "### The fun world of tensor datatypes!\n",
    "\n",
    "When working on projetcs with tensors, eventually you will come across erros about using the wrong tensor type.<br>\n",
    "Provided is a table of tensor datatypes to assist when error types arise.\n",
    "\n",
    "<h3><a href='https://pytorch.org/docs/stable/tensors.html'>Tensor Datatypes</a></h3>\n",
    "<table style=\"display: inline-block\">\n",
    "<tr><th>TYPE</th><th>NAME</th><th>EQUIVALENT</th><th>TENSOR TYPE</th></tr>\n",
    "<tr><td>32-bit integer (signed)</td><td>torch.int32</td><td>torch.int</td><td>IntTensor</td></tr>\n",
    "<tr><td>64-bit integer (signed)</td><td>torch.int64</td><td>torch.long</td><td>LongTensor</td></tr>\n",
    "<tr><td>16-bit integer (signed)</td><td>torch.int16</td><td>torch.short</td><td>ShortTensor</td></tr>\n",
    "<tr><td>32-bit floating point</td><td>torch.float32</td><td>torch.float</td><td>FloatTensor</td></tr>\n",
    "<tr><td>64-bit floating point</td><td>torch.float64</td><td>torch.double</td><td>DoubleTensor</td></tr>\n",
    "<tr><td>16-bit floating point</td><td>torch.float16</td><td>torch.half</td><td>HalfTensor</td></tr>\n",
    "<tr><td>8-bit integer (signed)</td><td>torch.int8</td><td></td><td>CharTensor</td></tr>\n",
    "<tr><td>8-bit integer (unsigned)</td><td>torch.uint8</td><td></td><td>ByteTensor</td></tr></table>"
   ]
  },
  {
   "cell_type": "code",
   "execution_count": null,
   "metadata": {},
   "outputs": [],
   "source": []
  }
 ],
 "metadata": {
  "kernelspec": {
   "display_name": "Python 3",
   "language": "python",
   "name": "python3"
  },
  "language_info": {
   "codemirror_mode": {
    "name": "ipython",
    "version": 3
   },
   "file_extension": ".py",
   "mimetype": "text/x-python",
   "name": "python",
   "nbconvert_exporter": "python",
   "pygments_lexer": "ipython3",
   "version": "3.7.3"
  }
 },
 "nbformat": 4,
 "nbformat_minor": 2
}
