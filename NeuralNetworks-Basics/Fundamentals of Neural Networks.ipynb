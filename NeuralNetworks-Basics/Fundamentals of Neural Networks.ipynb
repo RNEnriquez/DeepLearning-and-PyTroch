{
 "cells": [
  {
   "cell_type": "markdown",
   "metadata": {},
   "source": [
    "# Fundamentals of Neural Networks\n",
    "\n",
    "This notebook will cover the follwing:\n",
    "- Develop an intuition on the neural network process\n",
    "- Convert our intuition to lovely mathematical equations\n",
    "- Turn the math into code"
   ]
  },
  {
   "cell_type": "markdown",
   "metadata": {},
   "source": [
    "\n",
    "\n",
    "<img src=\"http://docs.opencv.org/2.4/_images/neuron_model.png\" width=400px>\n",
    "\n",
    "Looking at this photo might mean nothing to you or you may have seen it in almost EVERY article you find about neural networks!"
   ]
  },
  {
   "cell_type": "markdown",
   "metadata": {},
   "source": [
    "## Break-down of the cliche' image\n",
    "\n",
    "1. What the $x_1, x_2, x_n$ represents\n",
    "2. What the $w_{i1}, w_{i2}, w_{iN}$ represents\n",
    "3. What the 1/bias, $w_{i0}$ represents\n",
    "4. What the + represents\n",
    "5. What the $u_i$ represents\n",
    "6. What the $f(u)$ represents\n",
    "7. What the $y_i$ represents"
   ]
  },
  {
   "cell_type": "markdown",
   "metadata": {},
   "source": [
    "### What the $x_1, x_2, x_n$ represent\n",
    "\n",
    "These values represent the features that make-up an obervation. Here is an example:<br>\n",
    "We run a clothing store and have information about our customers:\n",
    "- Age\n",
    "- Sex\n",
    "- Money spent each month\n",
    "\n",
    "Each of these features represents information about one person. Person #1 could be labled as one observation with features $x_1$ = 25 (Age), $x_2$ = M (Sex), $x_3$ = $1400\n",
    "\n",
    "The $x_n$ is a way to generalize the amount of possible features any dataset may have. In our example, $x_n$ would be equal to three (meaning there are 3 features that make-up the dataset)."
   ]
  },
  {
   "cell_type": "code",
   "execution_count": null,
   "metadata": {},
   "outputs": [],
   "source": []
  }
 ],
 "metadata": {
  "kernelspec": {
   "display_name": "Python 3",
   "language": "python",
   "name": "python3"
  },
  "language_info": {
   "codemirror_mode": {
    "name": "ipython",
    "version": 3
   },
   "file_extension": ".py",
   "mimetype": "text/x-python",
   "name": "python",
   "nbconvert_exporter": "python",
   "pygments_lexer": "ipython3",
   "version": "3.7.3"
  }
 },
 "nbformat": 4,
 "nbformat_minor": 2
}
